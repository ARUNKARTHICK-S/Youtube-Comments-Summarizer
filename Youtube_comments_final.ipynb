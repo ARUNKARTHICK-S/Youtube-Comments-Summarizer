{
  "cells": [
    {
      "cell_type": "code",
      "execution_count": 4,
      "metadata": {
        "id": "JY9bTPsv15Kf"
      },
      "outputs": [],
      "source": [
        "import pandas as pd"
      ]
    },
    {
      "cell_type": "code",
      "execution_count": 5,
      "metadata": {
        "colab": {
          "base_uri": "https://localhost:8080/"
        },
        "id": "n-gN12hg1-JO",
        "outputId": "d849a6e5-bd81-467e-97b7-762b5dbd0fb9"
      },
      "outputs": [
        {
          "output_type": "stream",
          "name": "stdout",
          "text": [
            "Reading package lists... Done\n",
            "Building dependency tree       \n",
            "Reading state information... Done\n",
            "chromium-chromedriver is already the newest version (101.0.4951.64-0ubuntu0.18.04.1).\n",
            "The following package was automatically installed and is no longer required:\n",
            "  libnvidia-common-460\n",
            "Use 'apt autoremove' to remove it.\n",
            "0 upgraded, 0 newly installed, 0 to remove and 49 not upgraded.\n",
            "cp: '/usr/lib/chromium-browser/chromedriver' and '/usr/bin/chromedriver' are the same file\n"
          ]
        }
      ],
      "source": [
        "# The chromium driver is requried to run the selenium tool\n",
        "!apt install chromium-chromedriver\n",
        "!cp /usr/lib/chromium-browser/chromedriver /usr/bin"
      ]
    },
    {
      "cell_type": "code",
      "execution_count": 6,
      "metadata": {
        "colab": {
          "base_uri": "https://localhost:8080/",
          "height": 644
        },
        "id": "ZWH2nkjn2DV_",
        "outputId": "0a3d6fe9-6885-428a-ed50-ab1a84158e87"
      },
      "outputs": [
        {
          "output_type": "stream",
          "name": "stdout",
          "text": [
            "Looking in indexes: https://pypi.org/simple, https://us-python.pkg.dev/colab-wheels/public/simple/\n",
            "Requirement already satisfied: selenium in /usr/local/lib/python3.7/dist-packages (4.3.0)\n",
            "Collecting urllib3[secure,socks]~=1.26\n",
            "  Using cached urllib3-1.26.9-py2.py3-none-any.whl (138 kB)\n",
            "Requirement already satisfied: trio-websocket~=0.9 in /usr/local/lib/python3.7/dist-packages (from selenium) (0.9.2)\n",
            "Requirement already satisfied: trio~=0.17 in /usr/local/lib/python3.7/dist-packages (from selenium) (0.21.0)\n",
            "Requirement already satisfied: sniffio in /usr/local/lib/python3.7/dist-packages (from trio~=0.17->selenium) (1.2.0)\n",
            "Requirement already satisfied: async-generator>=1.9 in /usr/local/lib/python3.7/dist-packages (from trio~=0.17->selenium) (1.10)\n",
            "Requirement already satisfied: attrs>=19.2.0 in /usr/local/lib/python3.7/dist-packages (from trio~=0.17->selenium) (21.4.0)\n",
            "Requirement already satisfied: outcome in /usr/local/lib/python3.7/dist-packages (from trio~=0.17->selenium) (1.2.0)\n",
            "Requirement already satisfied: sortedcontainers in /usr/local/lib/python3.7/dist-packages (from trio~=0.17->selenium) (2.4.0)\n",
            "Requirement already satisfied: idna in /usr/local/lib/python3.7/dist-packages (from trio~=0.17->selenium) (2.10)\n",
            "Requirement already satisfied: wsproto>=0.14 in /usr/local/lib/python3.7/dist-packages (from trio-websocket~=0.9->selenium) (1.1.0)\n",
            "Requirement already satisfied: PySocks!=1.5.7,<2.0,>=1.5.6 in /usr/local/lib/python3.7/dist-packages (from urllib3[secure,socks]~=1.26->selenium) (1.7.1)\n",
            "Requirement already satisfied: pyOpenSSL>=0.14 in /usr/local/lib/python3.7/dist-packages (from urllib3[secure,socks]~=1.26->selenium) (22.0.0)\n",
            "Requirement already satisfied: certifi in /usr/local/lib/python3.7/dist-packages (from urllib3[secure,socks]~=1.26->selenium) (2022.6.15)\n",
            "Requirement already satisfied: cryptography>=1.3.4 in /usr/local/lib/python3.7/dist-packages (from urllib3[secure,socks]~=1.26->selenium) (37.0.2)\n",
            "Requirement already satisfied: cffi>=1.12 in /usr/local/lib/python3.7/dist-packages (from cryptography>=1.3.4->urllib3[secure,socks]~=1.26->selenium) (1.15.0)\n",
            "Requirement already satisfied: pycparser in /usr/local/lib/python3.7/dist-packages (from cffi>=1.12->cryptography>=1.3.4->urllib3[secure,socks]~=1.26->selenium) (2.21)\n",
            "Requirement already satisfied: h11<1,>=0.9.0 in /usr/local/lib/python3.7/dist-packages (from wsproto>=0.14->trio-websocket~=0.9->selenium) (0.13.0)\n",
            "Requirement already satisfied: typing-extensions in /usr/local/lib/python3.7/dist-packages (from h11<1,>=0.9.0->wsproto>=0.14->trio-websocket~=0.9->selenium) (4.1.1)\n",
            "Installing collected packages: urllib3\n",
            "  Attempting uninstall: urllib3\n",
            "    Found existing installation: urllib3 1.25.11\n",
            "    Uninstalling urllib3-1.25.11:\n",
            "      Successfully uninstalled urllib3-1.25.11\n",
            "\u001b[31mERROR: pip's dependency resolver does not currently take into account all the packages that are installed. This behaviour is the source of the following dependency conflicts.\n",
            "requests 2.23.0 requires urllib3!=1.25.0,!=1.25.1,<1.26,>=1.21.1, but you have urllib3 1.26.9 which is incompatible.\n",
            "datascience 0.10.6 requires folium==0.2.1, but you have folium 0.8.3 which is incompatible.\u001b[0m\n",
            "Successfully installed urllib3-1.26.9\n"
          ]
        },
        {
          "output_type": "display_data",
          "data": {
            "application/vnd.colab-display-data+json": {
              "pip_warning": {
                "packages": [
                  "urllib3"
                ]
              }
            }
          },
          "metadata": {}
        }
      ],
      "source": [
        "# Selenium is requried for the web automation\n",
        "!pip install selenium"
      ]
    },
    {
      "cell_type": "code",
      "execution_count": 7,
      "metadata": {
        "id": "RqEV9brH2KD7"
      },
      "outputs": [],
      "source": [
        "# To scrap the websites the necessary library packages are imported.\n",
        "import time\n",
        "from selenium import webdriver\n",
        "from selenium.webdriver import Chrome \n",
        "from selenium.webdriver.common.by import By \n",
        "from selenium.webdriver.common.keys import Keys \n",
        "from selenium.webdriver.support.ui import WebDriverWait\n",
        "from selenium.webdriver.support import expected_conditions as EC"
      ]
    },
    {
      "cell_type": "code",
      "execution_count": 8,
      "metadata": {
        "id": "R4qJKx_y2OTs"
      },
      "outputs": [],
      "source": [
        "# The ScrapComments function setup the environment and scrap the comments.\n",
        "def ScrapComments(path):\n",
        "  authors = []                                                                                                                                                                                                                                                                                                                                                                                                                                                                                                                                                                                                                                                                                                                                                                                           \n",
        "  try:\n",
        "    \n",
        "    options = webdriver.ChromeOptions()\n",
        "    options.add_argument('-headless')\n",
        "    options.add_argument('-no-sandbox')\n",
        "    options.add_argument('-disable-dev-shm-usage')\n",
        "    \n",
        "    driver =webdriver.Chrome('chromedriver',chrome_options=options)\n",
        "    wait = WebDriverWait(driver,15)\n",
        "    driver.get(path)\n",
        "    \n",
        "    # Sets the range of comments from the API extraction.\n",
        "    for item in range(5):\n",
        "      wait.until(EC.visibility_of_element_located((By.TAG_NAME,\"body\"))).send_keys(Keys.END)\n",
        "      time.sleep(5)\n",
        "    \n",
        "    \n",
        "    for author in wait.until(EC.presence_of_all_elements_located((By.CLASS_NAME,\"style-scope ytd-comment-renderer\"))):\n",
        "      authors.append(author.text)\n",
        "    \n",
        "  except Exception as e:\n",
        "    print(e)\n",
        "  return authors\n",
        "\n",
        "# Path defines the user input for the YouTube video link.\n"
      ]
    },
    {
      "cell_type": "code",
      "execution_count": 9,
      "metadata": {
        "id": "x0-iYVMA2Rzi"
      },
      "outputs": [],
      "source": [
        "# To clean the data we are removing the reply comments, followed by number of replies to that comment\n",
        "import re\n",
        "import pandas as pd\n",
        "def create_df_author_comments1(data):\n",
        "  author_comment = []\n",
        "  author=[]\n",
        "  for item in data:\n",
        "    s = re.sub('\\\\n[0-9]+ (days|weeks|months|years|week|month|year|hours|hour|day|minutes|minute) ago' ,'',item)\n",
        "    s = re.sub('\\\\nREPLY','',s)\n",
        "    s = re.sub('\\.\\\\n[0-9][\\.]*[0-9]*[A-Z]*','',s)\n",
        "    t = s.split('\\n')\n",
        "    t[0] = re.sub('\\(edited\\)','',t[0])\n",
        "    author.append(t[0])\n",
        "    s = \"\\n\".join(t[1:])\n",
        "    author_comment.append(s)\n",
        "  \n",
        "  # Here we have put author name as row name and their comment in column inside the data frame.  \n",
        "  df = pd.DataFrame(author_comment,index=author,columns=[\"Comments\"])\n",
        "  df.to_csv(r'F:\\comments.csv')\n",
        "  return df\n"
      ]
    },
    {
      "cell_type": "code",
      "execution_count": 10,
      "metadata": {
        "id": "aB8stz2h2Wiq"
      },
      "outputs": [],
      "source": [
        "# Importing the necessary libraries for the comment analysis and for visualization of data\n",
        "from textblob import TextBlob\n",
        "from wordcloud import WordCloud\n",
        "import pandas as pd\n",
        "import numpy as np\n",
        "import re\n",
        "import matplotlib.pyplot as plt\n",
        "plt.style.use('fivethirtyeight')"
      ]
    },
    {
      "cell_type": "code",
      "execution_count": 11,
      "metadata": {
        "id": "m3jHQGTu2aBB"
      },
      "outputs": [],
      "source": [
        "# Gets the subjectivity where the subject views are pinned.\n",
        "def getSubjectivity(text):\n",
        "  return TextBlob(text).sentiment.subjectivity\n",
        "\n",
        "# Gets the polarity (for checking the positive and negative comments)\n",
        "def getPolarity(text):\n",
        "  return TextBlob(text).sentiment.polarity\n"
      ]
    },
    {
      "cell_type": "code",
      "execution_count": 12,
      "metadata": {
        "id": "KPmotbFj2dxc"
      },
      "outputs": [],
      "source": [
        "# Computing the analysis by its score is to diffrentiate it from the positive, negative and neutral.\n",
        "def getAnalysis(score):\n",
        "  if score < 0 :\n",
        "    return 'Negative'\n",
        "  elif score == 0:\n",
        "    return 'Neutral'\n",
        "  else:\n",
        "    return 'Positive'\n",
        "\n"
      ]
    },
    {
      "cell_type": "code",
      "execution_count": 13,
      "metadata": {
        "id": "JWe_cAeB2j4q"
      },
      "outputs": [],
      "source": [
        "def val(data):\n",
        "  # Conversion of analysis labels into percentage for the output.\n",
        "  pcomments = data[data.Analysis == 'Positive']\n",
        "  pcomments = pcomments['Comments']\n",
        "  positive=round((pcomments.shape[0]/data.shape[0])*100, 1)\n",
        "  print('Positive: ' +str(round((pcomments.shape[0]/data.shape[0])*100, 1))+ '%')\n",
        "\n",
        "  ncomments = data[data.Analysis == 'Negative']\n",
        "  ncomments = ncomments['Comments']\n",
        "  negative=round((ncomments.shape[0]/data.shape[0])*100, 1)\n",
        "  print('Negative: ' +str(round((ncomments.shape[0]/data.shape[0])*100, 1))+ '%')\n",
        "\n",
        "  nucomments = data[data.Analysis == 'Neutral']\n",
        "  nucomments = nucomments['Comments']\n",
        "  neutral=round((nucomments.shape[0]/data.shape[0])*100, 1)\n",
        "  print('Neutral: ' +str(round((nucomments.shape[0]/data.shape[0])*100, 1))+ '%')\n",
        "  return positive,negative,neutral\n"
      ]
    },
    {
      "cell_type": "code",
      "execution_count": 14,
      "metadata": {
        "colab": {
          "base_uri": "https://localhost:8080/",
          "height": 523
        },
        "id": "r_N-Vq1z1DB9",
        "outputId": "989a5812-6093-49ca-e675-50be989b95f8"
      },
      "outputs": [
        {
          "output_type": "stream",
          "name": "stdout",
          "text": [
            "Looking in indexes: https://pypi.org/simple, https://us-python.pkg.dev/colab-wheels/public/simple/\n",
            "Requirement already satisfied: flask-ngrok in /usr/local/lib/python3.7/dist-packages (0.0.25)\n",
            "Requirement already satisfied: requests in /usr/local/lib/python3.7/dist-packages (from flask-ngrok) (2.23.0)\n",
            "Requirement already satisfied: Flask>=0.8 in /usr/local/lib/python3.7/dist-packages (from flask-ngrok) (1.1.4)\n",
            "Requirement already satisfied: click<8.0,>=5.1 in /usr/local/lib/python3.7/dist-packages (from Flask>=0.8->flask-ngrok) (7.1.2)\n",
            "Requirement already satisfied: itsdangerous<2.0,>=0.24 in /usr/local/lib/python3.7/dist-packages (from Flask>=0.8->flask-ngrok) (1.1.0)\n",
            "Requirement already satisfied: Jinja2<3.0,>=2.10.1 in /usr/local/lib/python3.7/dist-packages (from Flask>=0.8->flask-ngrok) (2.11.3)\n",
            "Requirement already satisfied: Werkzeug<2.0,>=0.15 in /usr/local/lib/python3.7/dist-packages (from Flask>=0.8->flask-ngrok) (1.0.1)\n",
            "Requirement already satisfied: MarkupSafe>=0.23 in /usr/local/lib/python3.7/dist-packages (from Jinja2<3.0,>=2.10.1->Flask>=0.8->flask-ngrok) (2.0.1)\n",
            "Requirement already satisfied: chardet<4,>=3.0.2 in /usr/local/lib/python3.7/dist-packages (from requests->flask-ngrok) (3.0.4)\n",
            "Requirement already satisfied: certifi>=2017.4.17 in /usr/local/lib/python3.7/dist-packages (from requests->flask-ngrok) (2022.6.15)\n",
            "Collecting urllib3!=1.25.0,!=1.25.1,<1.26,>=1.21.1\n",
            "  Using cached urllib3-1.25.11-py2.py3-none-any.whl (127 kB)\n",
            "Requirement already satisfied: idna<3,>=2.5 in /usr/local/lib/python3.7/dist-packages (from requests->flask-ngrok) (2.10)\n",
            "Installing collected packages: urllib3\n",
            "  Attempting uninstall: urllib3\n",
            "    Found existing installation: urllib3 1.26.9\n",
            "    Uninstalling urllib3-1.26.9:\n",
            "      Successfully uninstalled urllib3-1.26.9\n",
            "\u001b[31mERROR: pip's dependency resolver does not currently take into account all the packages that are installed. This behaviour is the source of the following dependency conflicts.\n",
            "selenium 4.3.0 requires urllib3[secure,socks]~=1.26, but you have urllib3 1.25.11 which is incompatible.\n",
            "datascience 0.10.6 requires folium==0.2.1, but you have folium 0.8.3 which is incompatible.\u001b[0m\n",
            "Successfully installed urllib3-1.25.11\n"
          ]
        },
        {
          "output_type": "display_data",
          "data": {
            "application/vnd.colab-display-data+json": {
              "pip_warning": {
                "packages": [
                  "urllib3"
                ]
              }
            }
          },
          "metadata": {}
        }
      ],
      "source": [
        "!pip install flask-ngrok"
      ]
    },
    {
      "cell_type": "code",
      "execution_count": 15,
      "metadata": {
        "colab": {
          "base_uri": "https://localhost:8080/"
        },
        "id": "hCqKqtNV1EZr",
        "outputId": "8f6ec549-b863-4f25-ea2f-42bf01565ef3"
      },
      "outputs": [
        {
          "output_type": "stream",
          "name": "stdout",
          "text": [
            "Looking in indexes: https://pypi.org/simple, https://us-python.pkg.dev/colab-wheels/public/simple/\n",
            "Requirement already satisfied: flask in /usr/local/lib/python3.7/dist-packages (1.1.4)\n",
            "Requirement already satisfied: click<8.0,>=5.1 in /usr/local/lib/python3.7/dist-packages (from flask) (7.1.2)\n",
            "Requirement already satisfied: Werkzeug<2.0,>=0.15 in /usr/local/lib/python3.7/dist-packages (from flask) (1.0.1)\n",
            "Requirement already satisfied: Jinja2<3.0,>=2.10.1 in /usr/local/lib/python3.7/dist-packages (from flask) (2.11.3)\n",
            "Requirement already satisfied: itsdangerous<2.0,>=0.24 in /usr/local/lib/python3.7/dist-packages (from flask) (1.1.0)\n",
            "Requirement already satisfied: MarkupSafe>=0.23 in /usr/local/lib/python3.7/dist-packages (from Jinja2<3.0,>=2.10.1->flask) (2.0.1)\n"
          ]
        }
      ],
      "source": [
        "!pip install flask"
      ]
    },
    {
      "cell_type": "code",
      "execution_count": 33,
      "metadata": {
        "colab": {
          "base_uri": "https://localhost:8080/"
        },
        "id": "xyBTQSS41IZH",
        "outputId": "b158325e-2a65-4fde-ae4c-58295b0bb391"
      },
      "outputs": [
        {
          "output_type": "stream",
          "name": "stdout",
          "text": [
            "Drive already mounted at /content/drive; to attempt to forcibly remount, call drive.mount(\"/content/drive\", force_remount=True).\n"
          ]
        }
      ],
      "source": [
        "from google.colab import drive\n",
        "drive.mount('/content/drive')"
      ]
    },
    {
      "cell_type": "code",
      "execution_count": 34,
      "metadata": {
        "colab": {
          "base_uri": "https://localhost:8080/"
        },
        "id": "1Uh4QFlX1Lzn",
        "outputId": "191188ce-505a-4ea2-96bf-559df9773e43"
      },
      "outputs": [
        {
          "output_type": "stream",
          "name": "stdout",
          "text": [
            "/content/drive/My Drive/EDP\n"
          ]
        }
      ],
      "source": [
        "cd /content/drive/My Drive/EDP"
      ]
    },
    {
      "cell_type": "code",
      "execution_count": 18,
      "metadata": {
        "colab": {
          "base_uri": "https://localhost:8080/"
        },
        "id": "BsE1py3Q1Z-5",
        "outputId": "214f4d12-6091-4c12-df92-39844afb8ba2"
      },
      "outputs": [
        {
          "output_type": "stream",
          "name": "stdout",
          "text": [
            "Looking in indexes: https://pypi.org/simple, https://us-python.pkg.dev/colab-wheels/public/simple/\n",
            "Requirement already satisfied: pyngrok in /usr/local/lib/python3.7/dist-packages (5.1.0)\n",
            "Requirement already satisfied: PyYAML in /usr/local/lib/python3.7/dist-packages (from pyngrok) (3.13)\n"
          ]
        }
      ],
      "source": [
        "!pip install pyngrok"
      ]
    },
    {
      "cell_type": "code",
      "execution_count": 19,
      "metadata": {
        "colab": {
          "base_uri": "https://localhost:8080/"
        },
        "id": "rpwDOfId1coq",
        "outputId": "d97fc118-5855-4290-8c5a-89fd31241cb8"
      },
      "outputs": [
        {
          "output_type": "stream",
          "name": "stdout",
          "text": [
            "Authtoken saved to configuration file: /root/.ngrok2/ngrok.yml\n"
          ]
        }
      ],
      "source": [
        "!ngrok authtoken 2AANgy3GzA0e5ax4uh2j9s4sPcH_87Ff4HSw3hGKJENhLMNVx "
      ]
    },
    {
      "cell_type": "code",
      "source": [
        "def cloud(data):\n",
        "  allWords = ' '.join( [cmts for cmts in data['Comments']])\n",
        "  wordCloud = WordCloud(width = 500, height = 300, random_state = 21, max_font_size = 119).generate(allWords)\n",
        "\n",
        "  plt.imshow(wordCloud, interpolation= 'bilinear')\n",
        "  plt.axis('off')\n",
        "  plt.show"
      ],
      "metadata": {
        "id": "DH2v5UadXnMr"
      },
      "execution_count": 20,
      "outputs": []
    },
    {
      "cell_type": "code",
      "execution_count": 35,
      "metadata": {
        "colab": {
          "base_uri": "https://localhost:8080/"
        },
        "id": "Z1RQo3iq1iS_",
        "outputId": "4d571eda-0f2a-4ff5-9f40-d0171b2a2e2d"
      },
      "outputs": [
        {
          "output_type": "stream",
          "name": "stdout",
          "text": [
            " * Serving Flask app \"__main__\" (lazy loading)\n",
            " * Environment: production\n",
            "\u001b[31m   WARNING: This is a development server. Do not use it in a production deployment.\u001b[0m\n",
            "\u001b[2m   Use a production WSGI server instead.\u001b[0m\n",
            " * Debug mode: off\n"
          ]
        },
        {
          "output_type": "stream",
          "name": "stderr",
          "text": [
            " * Running on http://127.0.0.1:5000/ (Press CTRL+C to quit)\n"
          ]
        },
        {
          "output_type": "stream",
          "name": "stdout",
          "text": [
            " * Running on http://4d39-35-245-99-156.ngrok.io\n",
            " * Traffic stats available on http://127.0.0.1:4040\n"
          ]
        },
        {
          "output_type": "stream",
          "name": "stderr",
          "text": [
            "127.0.0.1 - - [24/Jun/2022 17:36:23] \"\u001b[37mGET / HTTP/1.1\u001b[0m\" 200 -\n"
          ]
        },
        {
          "output_type": "stream",
          "name": "stdout",
          "text": [
            "hello\n"
          ]
        },
        {
          "output_type": "stream",
          "name": "stderr",
          "text": [
            "127.0.0.1 - - [24/Jun/2022 17:36:24] \"\u001b[37mGET /static/vendor/jquery/jquery.min.js HTTP/1.1\u001b[0m\" 200 -\n",
            "127.0.0.1 - - [24/Jun/2022 17:36:24] \"\u001b[37mGET /static/assets/css/fontawesome.css HTTP/1.1\u001b[0m\" 200 -\n",
            "127.0.0.1 - - [24/Jun/2022 17:36:24] \"\u001b[37mGET /static/assets/css/owl.css HTTP/1.1\u001b[0m\" 200 -\n",
            "127.0.0.1 - - [24/Jun/2022 17:36:24] \"\u001b[37mGET /static/assets/css/templatemo-digimedia-v1.css HTTP/1.1\u001b[0m\" 200 -\n",
            "127.0.0.1 - - [24/Jun/2022 17:36:24] \"\u001b[37mGET /static/assets/css/animated.css HTTP/1.1\u001b[0m\" 200 -\n",
            "127.0.0.1 - - [24/Jun/2022 17:36:24] \"\u001b[37mGET /static/vendor/bootstrap/css/bootstrap.min.css HTTP/1.1\u001b[0m\" 200 -\n",
            "127.0.0.1 - - [24/Jun/2022 17:36:26] \"\u001b[37mGET /static/vendor/bootstrap/js/bootstrap.bundle.min.js HTTP/1.1\u001b[0m\" 200 -\n",
            "127.0.0.1 - - [24/Jun/2022 17:36:26] \"\u001b[37mGET /static/assets/js/owl-carousel.js HTTP/1.1\u001b[0m\" 200 -\n",
            "127.0.0.1 - - [24/Jun/2022 17:36:26] \"\u001b[37mGET /static/assets/js/animation.js HTTP/1.1\u001b[0m\" 200 -\n",
            "127.0.0.1 - - [24/Jun/2022 17:36:26] \"\u001b[37mGET /static/assets/js/imagesloaded.js HTTP/1.1\u001b[0m\" 200 -\n",
            "127.0.0.1 - - [24/Jun/2022 17:36:26] \"\u001b[37mGET /static/assets/js/custom.js HTTP/1.1\u001b[0m\" 200 -\n",
            "127.0.0.1 - - [24/Jun/2022 17:36:27] \"\u001b[37mGET /static/assets/images/slider-dec.png HTTP/1.1\u001b[0m\" 200 -\n",
            "127.0.0.1 - - [24/Jun/2022 17:36:28] \"\u001b[37mGET /static/assets/images/about-dec.png HTTP/1.1\u001b[0m\" 200 -\n",
            "127.0.0.1 - - [24/Jun/2022 17:36:29] \"\u001b[37mGET / HTTP/1.1\u001b[0m\" 200 -\n"
          ]
        },
        {
          "output_type": "stream",
          "name": "stdout",
          "text": [
            "hello\n"
          ]
        },
        {
          "output_type": "stream",
          "name": "stderr",
          "text": [
            "127.0.0.1 - - [24/Jun/2022 17:36:29] \"\u001b[37mGET /static/assets/images/slider-left-dec.jpg HTTP/1.1\u001b[0m\" 200 -\n",
            "127.0.0.1 - - [24/Jun/2022 17:36:29] \"\u001b[37mGET /static/assets/images/quote-bg.jpg HTTP/1.1\u001b[0m\" 200 -\n",
            "127.0.0.1 - - [24/Jun/2022 17:36:29] \"\u001b[37mGET /static/assets/images/footer-bg.jpg HTTP/1.1\u001b[0m\" 200 -\n",
            "127.0.0.1 - - [24/Jun/2022 17:36:30] \"\u001b[37mGET /static/assets/images/slider-right-dec.jpg HTTP/1.1\u001b[0m\" 200 -\n",
            "127.0.0.1 - - [24/Jun/2022 17:36:30] \"\u001b[37mGET /static/vendor/bootstrap/css/bootstrap.min.css HTTP/1.1\u001b[0m\" 200 -\n",
            "127.0.0.1 - - [24/Jun/2022 17:36:30] \"\u001b[37mGET /static/assets/css/fontawesome.css HTTP/1.1\u001b[0m\" 200 -\n",
            "127.0.0.1 - - [24/Jun/2022 17:36:30] \"\u001b[37mGET /static/assets/css/templatemo-digimedia-v1.css HTTP/1.1\u001b[0m\" 200 -\n",
            "127.0.0.1 - - [24/Jun/2022 17:36:30] \"\u001b[37mGET /static/assets/css/animated.css HTTP/1.1\u001b[0m\" 200 -\n",
            "127.0.0.1 - - [24/Jun/2022 17:36:30] \"\u001b[37mGET /static/vendor/jquery/jquery.min.js HTTP/1.1\u001b[0m\" 200 -\n",
            "127.0.0.1 - - [24/Jun/2022 17:36:30] \"\u001b[37mGET /static/assets/css/owl.css HTTP/1.1\u001b[0m\" 200 -\n",
            "127.0.0.1 - - [24/Jun/2022 17:36:33] \"\u001b[37mGET /static/vendor/bootstrap/js/bootstrap.bundle.min.js HTTP/1.1\u001b[0m\" 200 -\n",
            "127.0.0.1 - - [24/Jun/2022 17:36:33] \"\u001b[37mGET /static/assets/js/owl-carousel.js HTTP/1.1\u001b[0m\" 200 -\n",
            "127.0.0.1 - - [24/Jun/2022 17:36:33] \"\u001b[37mGET /static/assets/js/custom.js HTTP/1.1\u001b[0m\" 200 -\n",
            "127.0.0.1 - - [24/Jun/2022 17:36:34] \"\u001b[37mGET /static/assets/js/imagesloaded.js HTTP/1.1\u001b[0m\" 200 -\n",
            "127.0.0.1 - - [24/Jun/2022 17:36:34] \"\u001b[37mGET /static/assets/js/animation.js HTTP/1.1\u001b[0m\" 200 -\n",
            "127.0.0.1 - - [24/Jun/2022 17:36:34] \"\u001b[37mGET /static/assets/images/slider-left-dec.jpg HTTP/1.1\u001b[0m\" 200 -\n",
            "127.0.0.1 - - [24/Jun/2022 17:36:36] \"\u001b[37mGET /static/assets/images/slider-right-dec.jpg HTTP/1.1\u001b[0m\" 200 -\n",
            "127.0.0.1 - - [24/Jun/2022 17:36:37] \"\u001b[37mGET /static/assets/images/slider-dec.png HTTP/1.1\u001b[0m\" 200 -\n",
            "127.0.0.1 - - [24/Jun/2022 17:36:37] \"\u001b[37mGET /static/assets/images/about-dec.png HTTP/1.1\u001b[0m\" 200 -\n",
            "127.0.0.1 - - [24/Jun/2022 17:36:37] \"\u001b[37mGET /static/assets/images/quote-bg.jpg HTTP/1.1\u001b[0m\" 200 -\n",
            "127.0.0.1 - - [24/Jun/2022 17:36:37] \"\u001b[37mGET /static/assets/images/footer-bg.jpg HTTP/1.1\u001b[0m\" 200 -\n",
            "127.0.0.1 - - [24/Jun/2022 17:36:38] \"\u001b[33mGET /favicon.ico HTTP/1.1\u001b[0m\" 404 -\n"
          ]
        },
        {
          "output_type": "stream",
          "name": "stdout",
          "text": [
            "hello\n",
            "hrllo https://www.youtube.com/watch?v=Zl_dTUsrU9s\n"
          ]
        },
        {
          "output_type": "stream",
          "name": "stderr",
          "text": [
            "/usr/local/lib/python3.7/dist-packages/ipykernel_launcher.py:11: DeprecationWarning: use options instead of chrome_options\n",
            "  # This is added back by InteractiveShellApp.init_path()\n",
            "127.0.0.1 - - [24/Jun/2022 17:37:39] \"\u001b[37mPOST / HTTP/1.1\u001b[0m\" 200 -\n"
          ]
        },
        {
          "output_type": "stream",
          "name": "stdout",
          "text": [
            "Positive: 78.8%\n",
            "Negative: 7.5%\n",
            "Neutral: 13.8%\n",
            "                                                                Comments  \\\n",
            "Agent 47 Gaming India  This has to be the most anticipated and best s...   \n",
            "Kennethmarco1          The Song \"Running Up that hill\" Was So Insane ...   \n",
            "Nikki                  This has got to be one of the best shows ever ...   \n",
            "Mukesh Srivastav       One of the key reasons for this season's succe...   \n",
            "Mike Scott             This version of “Running Up That Hill” where i...   \n",
            "...                                                                  ...   \n",
            "Boomer                 this must be the most awesome season for life!...   \n",
            "MxMo                   Everything is amazing in this trailer, the mus...   \n",
            "nishit shah            The scene where Eddie plays the guitar in upsi...   \n",
            "Rosie posie            Eddie with that guitar is going to be one of t...   \n",
            "eduardo heggendorn     This is in another level for sure ! Can’t desc...   \n",
            "\n",
            "                       Subjectivity  Polarity  Analysis  \n",
            "Agent 47 Gaming India      0.400000  0.750000  Positive  \n",
            "Kennethmarco1              0.650000  0.000000   Neutral  \n",
            "Nikki                      0.450000  0.500000  Positive  \n",
            "Mukesh Srivastav           0.385417  0.002083  Positive  \n",
            "Mike Scott                 0.500000  0.133333  Positive  \n",
            "...                             ...       ...       ...  \n",
            "Boomer                     0.738636  0.659091  Positive  \n",
            "MxMo                       0.900000  0.600000  Positive  \n",
            "nishit shah                0.394444  0.172222  Positive  \n",
            "Rosie posie                0.500000  0.500000  Positive  \n",
            "eduardo heggendorn         0.888889  0.781250  Positive  \n",
            "\n",
            "[80 rows x 4 columns]\n",
            "Positive  78.8\n",
            "Negative  7.5\n",
            "Neutral  13.8\n"
          ]
        }
      ],
      "source": [
        "from flask_ngrok import run_with_ngrok\n",
        "import numpy as np\n",
        "from flask import Flask,request, render_template\n",
        "#import matplotlib.pyplot as plt\n",
        "import io\n",
        "from PIL import Image\n",
        "from flask import Response\n",
        "from matplotlib.backends.backend_agg import FigureCanvasAgg as FigureCanvas\n",
        "from matplotlib.figure import Figure\n",
        "app = Flask(__name__)\n",
        "run_with_ngrok(app)\n",
        "@app.route('/',methods =['GET', 'POST'])\n",
        "def home():\n",
        "    print(\"hello\")\n",
        "    if request.method == 'POST' and 'name' in request.form:\n",
        "      name=request.form['name']\n",
        "      print(\"hrllo\",name)\n",
        "      #path = \"https://www.youtube.com/watch?v=rfscVS0vtbw\"\n",
        "      #display(name)\n",
        "      global data\n",
        "      data = ScrapComments(name)\n",
        "      data= create_df_author_comments1(data)\n",
        "      data['Subjectivity'] = data['Comments'].apply(getSubjectivity)\n",
        "      data['Polarity'] = data['Comments'].apply(getPolarity)\n",
        "      data['Analysis'] = data['Polarity'].apply(getAnalysis)\n",
        "      positive,negative,neutral=val(data)\n",
        "      print(data)\n",
        "      print(\"Positive \",positive)\n",
        "      print(\"Negative \",negative)\n",
        "      print(\"Neutral \",neutral)\n",
        "      data = {'Task' : 'Hours per Day', 'Positve Review' : positive, 'Negative Review' : negative, 'Neutral Review' : neutral}\n",
        "      return render_template('graph.html',res1=name,res2=positive,res3=negative,res4=neutral,data=data)\n",
        "    return render_template('homepage_1.html')\n",
        "\n",
        "\n",
        "app.run()"
      ]
    }
  ],
  "metadata": {
    "colab": {
      "collapsed_sections": [],
      "name": "Youtube comments final.ipynb",
      "provenance": []
    },
    "kernelspec": {
      "display_name": "Python 3",
      "name": "python3"
    },
    "language_info": {
      "name": "python"
    }
  },
  "nbformat": 4,
  "nbformat_minor": 0
}